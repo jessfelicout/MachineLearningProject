{
 "cells": [
  {
   "cell_type": "code",
   "execution_count": 2,
   "metadata": {},
   "outputs": [
    {
     "name": "stdout",
     "output_type": "stream",
     "text": [
      "          Pontualidade  Assiduidade  Liderança  Proatividade  Comunicação  \\\n",
      "Avaliado                                                                    \n",
      "0             4.260870     4.304348   3.086957      3.913043     4.086957   \n",
      "1             4.217391     4.347826   3.478261      4.000000     4.173913   \n",
      "2             4.086957     4.086957   3.478261      4.000000     4.130435   \n",
      "3             4.130435     4.130435   2.913043      3.695652     3.782609   \n",
      "4             3.956522     3.956522   3.565217      3.826087     4.000000   \n",
      "5             4.000000     4.434783   3.521739      4.086957     4.130435   \n",
      "6             4.434783     4.391304   3.434783      4.173913     4.043478   \n",
      "7             3.956522     4.000000   3.000000      3.913043     3.521739   \n",
      "8             4.434783     4.434783   3.173913      3.913043     3.695652   \n",
      "9             4.173913     4.260870   3.173913      3.782609     3.521739   \n",
      "10            4.260870     4.304348   3.521739      4.260870     3.826087   \n",
      "11            4.434783     4.434783   3.739130      4.304348     4.347826   \n",
      "12            4.304348     4.391304   3.521739      4.391304     3.782609   \n",
      "13            3.826087     3.869565   3.521739      4.086957     3.739130   \n",
      "14            4.304348     4.173913   3.347826      3.826087     3.869565   \n",
      "15            4.260870     4.173913   3.434783      4.217391     4.086957   \n",
      "16            4.391304     4.434783   4.173913      4.347826     4.304348   \n",
      "17            4.173913     4.478261   3.695652      3.869565     4.000000   \n",
      "18            3.826087     4.130435   3.304348      3.826087     4.043478   \n",
      "19            4.304348     4.347826   3.260870      4.260870     3.782609   \n",
      "20            3.913043     4.086957   3.000000      3.826087     3.608696   \n",
      "21            4.347826     4.565217   3.565217      4.043478     4.000000   \n",
      "\n",
      "          Organização  Trabalho em Equipe  Paciência   Empatia  \n",
      "Avaliado                                                        \n",
      "0            4.000000            4.217391   4.391304  4.304348  \n",
      "1            4.130435            4.347826   4.043478  4.391304  \n",
      "2            4.043478            4.130435   3.695652  3.739130  \n",
      "3            4.130435            3.956522   3.913043  4.000000  \n",
      "4            3.869565            4.043478   3.695652  3.913043  \n",
      "5            4.043478            4.260870   4.000000  4.086957  \n",
      "6            4.086957            4.304348   4.304348  3.913043  \n",
      "7            3.826087            4.000000   4.260870  4.043478  \n",
      "8            4.130435            4.130435   4.000000  3.434783  \n",
      "9            4.217391            4.043478   3.956522  4.043478  \n",
      "10           4.434783            4.086957   3.739130  3.652174  \n",
      "11           4.260870            4.521739   4.130435  4.130435  \n",
      "12           4.347826            4.304348   4.043478  4.000000  \n",
      "13           3.913043            3.826087   3.608696  3.695652  \n",
      "14           4.086957            4.173913   4.130435  3.739130  \n",
      "15           4.130435            4.217391   3.695652  3.913043  \n",
      "16           4.086957            4.521739   4.217391  4.173913  \n",
      "17           4.000000            3.956522   3.695652  3.652174  \n",
      "18           3.739130            4.000000   4.086957  4.130435  \n",
      "19           4.130435            4.347826   4.000000  4.043478  \n",
      "20           3.782609            4.000000   4.130435  4.173913  \n",
      "21           4.043478            4.391304   4.304348  4.000000  \n",
      "0 :\n",
      "\n"
     ]
    },
    {
     "data": {
      "text/plain": [
       "<matplotlib.figure.Figure at 0x1fa16388898>"
      ]
     },
     "metadata": {},
     "output_type": "display_data"
    },
    {
     "data": {
      "text/plain": [
       "<matplotlib.figure.Figure at 0x1fa16653198>"
      ]
     },
     "metadata": {},
     "output_type": "display_data"
    },
    {
     "name": "stdout",
     "output_type": "stream",
     "text": [
      "1 :\n",
      "\n"
     ]
    },
    {
     "data": {
      "text/plain": [
       "<matplotlib.figure.Figure at 0x1fa1656eb38>"
      ]
     },
     "metadata": {},
     "output_type": "display_data"
    },
    {
     "data": {
      "text/plain": [
       "<matplotlib.figure.Figure at 0x1fa16659470>"
      ]
     },
     "metadata": {},
     "output_type": "display_data"
    },
    {
     "name": "stdout",
     "output_type": "stream",
     "text": [
      "2 :\n",
      "\n"
     ]
    },
    {
     "data": {
      "text/plain": [
       "<matplotlib.figure.Figure at 0x1fa166cf8d0>"
      ]
     },
     "metadata": {},
     "output_type": "display_data"
    },
    {
     "data": {
      "text/plain": [
       "<matplotlib.figure.Figure at 0x1fa16659e10>"
      ]
     },
     "metadata": {},
     "output_type": "display_data"
    },
    {
     "name": "stdout",
     "output_type": "stream",
     "text": [
      "3 :\n",
      "\n"
     ]
    },
    {
     "data": {
      "text/plain": [
       "<matplotlib.figure.Figure at 0x1fa1658af98>"
      ]
     },
     "metadata": {},
     "output_type": "display_data"
    },
    {
     "data": {
      "text/plain": [
       "<matplotlib.figure.Figure at 0x1fa16979160>"
      ]
     },
     "metadata": {},
     "output_type": "display_data"
    },
    {
     "name": "stdout",
     "output_type": "stream",
     "text": [
      "4 :\n",
      "\n"
     ]
    },
    {
     "data": {
      "text/plain": [
       "<matplotlib.figure.Figure at 0x1fa1654b588>"
      ]
     },
     "metadata": {},
     "output_type": "display_data"
    },
    {
     "data": {
      "text/plain": [
       "<matplotlib.figure.Figure at 0x1fa169791d0>"
      ]
     },
     "metadata": {},
     "output_type": "display_data"
    },
    {
     "name": "stdout",
     "output_type": "stream",
     "text": [
      "5 :\n",
      "\n"
     ]
    },
    {
     "data": {
      "text/plain": [
       "<matplotlib.figure.Figure at 0x1fa169f2860>"
      ]
     },
     "metadata": {},
     "output_type": "display_data"
    },
    {
     "data": {
      "text/plain": [
       "<matplotlib.figure.Figure at 0x1fa1656e358>"
      ]
     },
     "metadata": {},
     "output_type": "display_data"
    },
    {
     "name": "stdout",
     "output_type": "stream",
     "text": [
      "6 :\n",
      "\n"
     ]
    },
    {
     "data": {
      "text/plain": [
       "<matplotlib.figure.Figure at 0x1fa16a9e828>"
      ]
     },
     "metadata": {},
     "output_type": "display_data"
    },
    {
     "data": {
      "text/plain": [
       "<matplotlib.figure.Figure at 0x1fa16989550>"
      ]
     },
     "metadata": {},
     "output_type": "display_data"
    },
    {
     "name": "stdout",
     "output_type": "stream",
     "text": [
      "7 :\n",
      "\n"
     ]
    },
    {
     "data": {
      "text/plain": [
       "<matplotlib.figure.Figure at 0x1fa16b4b780>"
      ]
     },
     "metadata": {},
     "output_type": "display_data"
    },
    {
     "data": {
      "text/plain": [
       "<matplotlib.figure.Figure at 0x1fa16a18b38>"
      ]
     },
     "metadata": {},
     "output_type": "display_data"
    },
    {
     "name": "stdout",
     "output_type": "stream",
     "text": [
      "8 :\n",
      "\n"
     ]
    },
    {
     "data": {
      "text/plain": [
       "<matplotlib.figure.Figure at 0x1fa16bf7b00>"
      ]
     },
     "metadata": {},
     "output_type": "display_data"
    },
    {
     "data": {
      "text/plain": [
       "<matplotlib.figure.Figure at 0x1fa16ac4b38>"
      ]
     },
     "metadata": {},
     "output_type": "display_data"
    },
    {
     "name": "stdout",
     "output_type": "stream",
     "text": [
      "9 :\n",
      "\n"
     ]
    },
    {
     "data": {
      "text/plain": [
       "<matplotlib.figure.Figure at 0x1fa16c9d588>"
      ]
     },
     "metadata": {},
     "output_type": "display_data"
    },
    {
     "data": {
      "text/plain": [
       "<matplotlib.figure.Figure at 0x1fa16b72c88>"
      ]
     },
     "metadata": {},
     "output_type": "display_data"
    },
    {
     "name": "stdout",
     "output_type": "stream",
     "text": [
      "10 :\n",
      "\n"
     ]
    },
    {
     "data": {
      "text/plain": [
       "<matplotlib.figure.Figure at 0x1fa16d51b38>"
      ]
     },
     "metadata": {},
     "output_type": "display_data"
    },
    {
     "data": {
      "text/plain": [
       "<matplotlib.figure.Figure at 0x1fa16c33828>"
      ]
     },
     "metadata": {},
     "output_type": "display_data"
    },
    {
     "name": "stdout",
     "output_type": "stream",
     "text": [
      "11 :\n",
      "\n"
     ]
    },
    {
     "data": {
      "text/plain": [
       "<matplotlib.figure.Figure at 0x1fa16d51c50>"
      ]
     },
     "metadata": {},
     "output_type": "display_data"
    },
    {
     "data": {
      "text/plain": [
       "<matplotlib.figure.Figure at 0x1fa16d4b1d0>"
      ]
     },
     "metadata": {},
     "output_type": "display_data"
    },
    {
     "name": "stdout",
     "output_type": "stream",
     "text": [
      "12 :\n",
      "\n"
     ]
    },
    {
     "data": {
      "text/plain": [
       "<matplotlib.figure.Figure at 0x1fa16590ef0>"
      ]
     },
     "metadata": {},
     "output_type": "display_data"
    },
    {
     "data": {
      "text/plain": [
       "<matplotlib.figure.Figure at 0x1fa16d8c978>"
      ]
     },
     "metadata": {},
     "output_type": "display_data"
    },
    {
     "name": "stdout",
     "output_type": "stream",
     "text": [
      "13 :\n",
      "\n"
     ]
    },
    {
     "data": {
      "text/plain": [
       "<matplotlib.figure.Figure at 0x1fa1654d8d0>"
      ]
     },
     "metadata": {},
     "output_type": "display_data"
    },
    {
     "data": {
      "text/plain": [
       "<matplotlib.figure.Figure at 0x1fa16635e48>"
      ]
     },
     "metadata": {},
     "output_type": "display_data"
    },
    {
     "name": "stdout",
     "output_type": "stream",
     "text": [
      "14 :\n",
      "\n"
     ]
    },
    {
     "data": {
      "text/plain": [
       "<matplotlib.figure.Figure at 0x1fa16c29908>"
      ]
     },
     "metadata": {},
     "output_type": "display_data"
    },
    {
     "data": {
      "text/plain": [
       "<matplotlib.figure.Figure at 0x1fa15fefa20>"
      ]
     },
     "metadata": {},
     "output_type": "display_data"
    },
    {
     "name": "stdout",
     "output_type": "stream",
     "text": [
      "15 :\n",
      "\n"
     ]
    },
    {
     "data": {
      "text/plain": [
       "<matplotlib.figure.Figure at 0x1fa166649b0>"
      ]
     },
     "metadata": {},
     "output_type": "display_data"
    },
    {
     "data": {
      "text/plain": [
       "<matplotlib.figure.Figure at 0x1fa16551c50>"
      ]
     },
     "metadata": {},
     "output_type": "display_data"
    },
    {
     "name": "stdout",
     "output_type": "stream",
     "text": [
      "16 :\n",
      "\n"
     ]
    },
    {
     "data": {
      "text/plain": [
       "<matplotlib.figure.Figure at 0x1fa169c3a58>"
      ]
     },
     "metadata": {},
     "output_type": "display_data"
    },
    {
     "data": {
      "text/plain": [
       "<matplotlib.figure.Figure at 0x1fa16baebe0>"
      ]
     },
     "metadata": {},
     "output_type": "display_data"
    },
    {
     "name": "stdout",
     "output_type": "stream",
     "text": [
      "17 :\n",
      "\n"
     ]
    },
    {
     "data": {
      "text/plain": [
       "<matplotlib.figure.Figure at 0x1fa16a8d940>"
      ]
     },
     "metadata": {},
     "output_type": "display_data"
    },
    {
     "data": {
      "text/plain": [
       "<matplotlib.figure.Figure at 0x1fa16afe6a0>"
      ]
     },
     "metadata": {},
     "output_type": "display_data"
    },
    {
     "name": "stdout",
     "output_type": "stream",
     "text": [
      "18 :\n",
      "\n"
     ]
    },
    {
     "data": {
      "text/plain": [
       "<matplotlib.figure.Figure at 0x1fa166d3ba8>"
      ]
     },
     "metadata": {},
     "output_type": "display_data"
    },
    {
     "data": {
      "text/plain": [
       "<matplotlib.figure.Figure at 0x1fa16aa68d0>"
      ]
     },
     "metadata": {},
     "output_type": "display_data"
    },
    {
     "name": "stdout",
     "output_type": "stream",
     "text": [
      "19 :\n",
      "\n"
     ]
    },
    {
     "data": {
      "text/plain": [
       "<matplotlib.figure.Figure at 0x1fa169e8630>"
      ]
     },
     "metadata": {},
     "output_type": "display_data"
    },
    {
     "data": {
      "text/plain": [
       "<matplotlib.figure.Figure at 0x1fa166cdcc0>"
      ]
     },
     "metadata": {},
     "output_type": "display_data"
    },
    {
     "name": "stdout",
     "output_type": "stream",
     "text": [
      "20 :\n",
      "\n"
     ]
    },
    {
     "data": {
      "text/plain": [
       "<matplotlib.figure.Figure at 0x1fa16afe0b8>"
      ]
     },
     "metadata": {},
     "output_type": "display_data"
    },
    {
     "data": {
      "text/plain": [
       "<matplotlib.figure.Figure at 0x1fa1656e7b8>"
      ]
     },
     "metadata": {},
     "output_type": "display_data"
    },
    {
     "name": "stdout",
     "output_type": "stream",
     "text": [
      "21 :\n",
      "\n"
     ]
    },
    {
     "data": {
      "text/plain": [
       "<matplotlib.figure.Figure at 0x1fa1654ca20>"
      ]
     },
     "metadata": {},
     "output_type": "display_data"
    },
    {
     "data": {
      "text/plain": [
       "<matplotlib.figure.Figure at 0x1fa169c4a58>"
      ]
     },
     "metadata": {},
     "output_type": "display_data"
    }
   ],
   "source": [
    "import scipy\n",
    "import numpy as np\n",
    "import matplotlib\n",
    "import pandas\n",
    "import sklearn\n",
    "import sys\n",
    "\n",
    "# Load libraries\n",
    "from pandas.plotting import scatter_matrix\n",
    "import matplotlib.pyplot as plt\n",
    "from sklearn import model_selection\n",
    "from sklearn.metrics import classification_report\n",
    "from sklearn.metrics import confusion_matrix\n",
    "from sklearn.metrics import accuracy_score\n",
    "from sklearn.linear_model import LogisticRegression\n",
    "from sklearn.tree import DecisionTreeClassifier\n",
    "from sklearn.neighbors import KNeighborsClassifier\n",
    "from sklearn.discriminant_analysis import LinearDiscriminantAnalysis\n",
    "from sklearn.naive_bayes import GaussianNB\n",
    "from sklearn.svm import SVC\n",
    "from math import pi\n",
    "\n",
    "#Take1 - Informações contidas no relatório\n",
    "#1.Resumo dos resultados \n",
    "\n",
    "# Load dataset\n",
    "form = \"bancodedados.csv\"\n",
    "parametros = ['Avaliado','Pontualidade', 'Assiduidade', 'Liderança', 'Proatividade', 'Comunicação', 'Organização', 'Trabalho em Equipe', 'Paciência','Empatia', 'start', 'stop', 'continue']\n",
    "dataset = pandas.read_csv(form, names=parametros)\n",
    "\n",
    "#def draw_radar()\n",
    "#print(dataset.groupby('Avaliado').mean())\n",
    "\n",
    "media_avaliados = dataset.groupby('Avaliado').mean()           #media dos avaliados\n",
    "print(media_avaliados)\n",
    "competencia = []\n",
    "nota = []\n",
    "\n",
    "\n",
    "for i in range (len(media_avaliados)):\n",
    "    avaliado = media_avaliados.index[i] #recebe o nome do avaliado\n",
    "    print(avaliado,\":\\n\")\n",
    "    j = 0\n",
    "    competencia.clear()      #limpa os vetores a cada novo avaliado\n",
    "    nota.clear()\n",
    "\n",
    "\n",
    "    #carrega o vetor com as competencias e respectivas médias\n",
    "    for j in range(9): \n",
    "        competencia.insert(j,media_avaliados.columns[j])\n",
    "        nota.insert(j, media_avaliados.loc[avaliado, competencia[j]])\n",
    "        plt.text(nota[j],competencia[j],str(round(nota[j],1)))\n",
    "        plt.barh(competencia[j], nota[j]) \n",
    "\n",
    "    \n",
    "    #grafico de barras\n",
    "    plt.gca().axes.get_xaxis().set_visible(False)   #exclui eixo x\n",
    "    plt.show()\n",
    "    \n",
    "    media = dataset.mean() #media geral -- inclui também a média dos valores da coluna avaliado, uma vez que os nomes foram substituidos por numeros\n",
    "    media_geral = media[1:]\n",
    "    #for i in range(9):\n",
    "     #   print(media_geral.index[i],\":\\n\",media_geral[i])\n",
    "        \n",
    "    N = len(media_geral)\n",
    "    #angulo do radar = 2pi/quantidade de competencias \n",
    "\n",
    "    angles = [n / float(N) * 2 * pi for n in range(N)] \n",
    "    angles += angles[:1]  #completando o círculo 360.\n",
    "    \n",
    "    # Initialise the spider plot\n",
    "    ax = plt.subplot(111, polar=True)\n",
    "\n",
    "    # If you want the first axis to be on top:\n",
    "    ax.set_theta_offset(pi / 2)\n",
    "    ax.set_theta_direction(-1)\n",
    "\n",
    "\n",
    "    # Draw one axe per variable + add labels labels yet -- indexa cada angulo à atribuição\n",
    "    plt.xticks(angles[:-1], media_geral.index)\n",
    "\n",
    "    #Draw ylabels\n",
    "    ax.set_rlabel_position(0)\n",
    "    plt.yticks([1,2,3,4],[\"1\", \"2\", \"3\", \"4\"], color=\"blue\")\n",
    "    plt.ylim(0,5)\n",
    "\n",
    "    #radar do grupo:\n",
    "    values=media_geral.tolist()\n",
    "    values += values[:1]\n",
    "    ax.plot(angles, values, linewidth=1, linestyle='solid', label=\"Sua Equipe\")\n",
    "    ax.fill(angles, values, 'b', alpha=0.1)\n",
    "\n",
    "    #radar individual\n",
    "    values = nota\n",
    "    values += values[:1]\n",
    "    ax.plot(angles, values, linewidth=1, linestyle='solid', label=\"Você\")\n",
    "    ax.fill(angles, values, 'r', alpha=0.1)\n",
    "    \n",
    "    plt.legend(loc='upper right', bbox_to_anchor=(1.5, 0.2))\n",
    "    plt.show()\n",
    "\n",
    "    #legenda:\n",
    "    \n",
    "\n",
    "#plt.barh(media_avaliados[0:1])\n",
    "#for i in range (len(media_avaliados)):\n",
    "#media_avaliados[0:1].apply(plt.barh,axis=0)   #tentar gerar gráfico com essas informações\n",
    "    #print('\\n')\n",
    "\n",
    "#print(dataset.groupby('Avaliado').cumcount())\n",
    "\n",
    "\n",
    "\n",
    "#avaliados = pandas.read_csv(form, skiprows = 1, names=parametros, usecols=['Avaliado'], nrows = i)\n",
    "#n = dataset.groupby('Avaliado').size()\n",
    "\n"
   ]
  },
  {
   "cell_type": "code",
   "execution_count": 26,
   "metadata": {},
   "outputs": [
    {
     "name": "stdout",
     "output_type": "stream",
     "text": [
      "Centroides:\n",
      " [[3.26020408 4.08673469]\n",
      " [4.6875     4.88020833]\n",
      " [1.55932203 3.16101695]] \n",
      "\n",
      "labels:\n",
      " [1 0 0 1 0 1 1 1 1 1 2 2 1 2 1 0 1 1 0 2 0 2 0 0 2 1 0 1 0 0 0 0 0 1 1 0 1\n",
      " 1 0 1 1 2 1 0 1 1 2 1 1 1 0 1 1 0 1 1 0 1 1 1 0 1 1 0 1 1 1 1 2 2 1 1 1 1\n",
      " 1 1 1 1 1 1 0 1 1 0 0 0 2 0 0 2 2 2 2 2 2 0 2 1 1 2 1 1 0 0 0 2 0 0 0 0 0\n",
      " 2 2 1 2 0 2 0 2 2 0 0 0 0 0 0 2 2 2 2 0 2 2 0 2 0 1 1 2 2 0 0 0 1 2 1 0 2\n",
      " 0 0 0 2 1 2 1 2 2 1 0 1 0 1 2 1 1 1 1 0 1 1 1 0 1 1 1 1 1 0 0 0 1 2 2 0 1\n",
      " 0 0 1 0 2 0 1 0 1 1 1 2 1 0 0 1 2 0 0 1 0 1 0 1 0 0 1 1 1 1 1 0 1 1 0 1 1\n",
      " 1 1 1 1 1 1 1 1 1 1 1 1 1 1 1 1 1 1 1 1 1 1 1 1 1 0 0 1 1 1 1 1 1 1 1 1 1\n",
      " 1 1 1 1 1 1 1 1 1 1 1 1 1 1 1 2 1 1 0 1 1 2 1 0 0 0 1 0 0 1 0 2 2 0 1 2 0\n",
      " 2 0 1 1 0 1 2 1 2 0 1 0 1 2 0 2 0 0 0 1 2 0 1 0 1 0 0 0 0 0 0 1 0 1 0 0 0\n",
      " 2 0 2 0 0 0 0 2 0 0 0 2 2 2 0 0 0 2 0 2 2 0 2 0 2 2 0 2 2 1 1 1 0 2 0 2 1\n",
      " 0 0 0 2 2 0 2 1 1 1 1 2 0 2 2 0 0 0 0 2 2 0 0 0 2 0 2 2 2 2 0 0 0 1 2 0 2\n",
      " 0 2 0 0 0 1 1 1 0 1 2 1 2 1 2 2 0 0 1 2 2 0 0 0 2 2 0 2 2 0 2 0 0 0 0 2 0\n",
      " 0 0 0 0 2 2 0 0 2 0 0 2 2 0 1 0 2 0 2 0 0 0 0 0 1 0 2 2 0 0 0 0 1 0 0 0 0\n",
      " 0 0 0 0 2 2 2 2 2 0 2 1 0 1 0 0 0 1 1 1 0 1 0 2 1] \n",
      "\n",
      "X[0]:\n",
      " [4 4 3 4 3 5 5 5 5 5 1 2 5 1 5 3 5 4 3 2 3 0 3 3 1 4 2 5 3 3 3 3 3 4 5 3 5\n",
      " 5 3 5 5 1 5 3 4 4 2 5 4 5 3 5 5 4 5 5 4 5 4 5 3 5 5 3 5 5 5 5 2 2 5 5 4 4\n",
      " 5 4 5 5 5 5 3 5 5 3 3 3 0 3 3 2 0 3 1 1 2 3 1 4 5 2 4 4 3 4 4 2 3 3 3 3 4\n",
      " 2 3 5 3 3 2 4 2 2 4 4 3 4 3 4 3 1 2 1 4 0 1 3 1 4 5 5 2 1 3 3 4 5 2 5 3 2\n",
      " 3 3 3 2 5 2 4 2 2 5 4 5 3 4 2 5 5 5 5 4 5 4 5 3 5 5 4 4 4 3 3 3 5 1 0 2 4\n",
      " 4 3 5 3 0 4 4 3 4 5 5 2 5 3 3 4 2 4 2 5 4 4 3 5 3 3 4 5 5 5 5 3 4 4 3 4 4\n",
      " 5 4 5 4 4 5 4 4 5 5 5 5 4 5 5 5 4 4 5 4 5 5 4 4 5 3 4 5 5 5 5 5 5 5 5 5 5\n",
      " 5 5 5 5 5 5 5 5 5 5 5 4 4 5 5 0 4 5 3 4 5 2 4 2 3 3 4 3 3 5 3 2 0 3 4 2 4\n",
      " 1 2 5 4 3 5 2 4 0 4 4 3 4 1 3 2 4 3 4 5 2 3 5 3 5 4 4 4 3 4 3 4 3 5 4 3 4\n",
      " 1 3 1 3 4 3 3 2 3 3 4 0 0 1 4 4 3 3 3 2 2 4 0 3 2 2 3 1 2 5 5 5 4 2 4 2 5\n",
      " 3 3 3 2 1 3 1 5 5 4 5 2 3 2 2 3 4 4 3 2 1 4 3 3 1 4 2 1 1 2 4 4 3 5 2 3 2\n",
      " 4 2 3 3 3 5 5 4 4 5 2 5 1 5 2 2 3 3 4 2 2 2 4 3 1 2 4 2 2 3 1 4 3 3 4 2 3\n",
      " 4 4 3 4 2 2 4 3 2 4 3 2 2 4 5 4 0 3 1 3 2 3 3 3 5 3 2 2 3 3 4 3 5 3 3 4 3\n",
      " 3 3 3 3 2 2 2 2 2 4 2 5 2 4 3 3 2 4 4 5 3 5 3 0 5] \n",
      "X[1]:\n",
      " [5 4 4 5 5 5 4 5 5 5 5 4 5 5 5 3 5 5 5 2 5 3 5 4 4 5 5 5 5 5 5 5 5 5 4 5 5\n",
      " 5 5 5 5 4 5 5 5 5 3 5 5 5 4 5 5 4 5 5 4 5 5 5 5 3 5 5 5 5 5 4 3 3 4 5 5 5\n",
      " 5 5 5 5 5 5 5 5 5 5 5 5 4 5 5 4 3 2 3 4 3 4 5 5 5 3 5 5 5 3 3 4 4 4 4 4 3\n",
      " 4 2 4 2 4 4 3 2 2 4 4 4 3 4 4 2 5 4 2 3 3 2 5 4 3 5 3 2 4 4 4 4 5 3 3 4 4\n",
      " 3 3 5 4 5 4 5 3 4 5 4 5 5 5 4 5 5 4 5 4 4 5 4 4 5 5 5 5 5 4 4 5 5 3 3 5 5\n",
      " 3 5 5 4 3 4 5 4 5 5 5 4 5 5 5 5 4 3 5 3 4 5 5 5 4 5 5 5 5 5 5 5 5 5 5 5 5\n",
      " 4 5 5 5 5 5 5 5 5 5 5 5 5 5 5 5 5 5 5 5 5 5 5 5 5 5 3 5 5 5 5 5 5 5 5 5 5\n",
      " 5 5 5 5 5 5 5 5 5 5 5 5 5 5 5 4 5 5 5 5 5 4 5 5 4 4 5 4 4 4 3 3 3 3 5 3 4\n",
      " 4 5 5 5 3 5 3 5 4 4 5 5 5 4 4 4 4 4 4 5 4 4 5 4 5 4 4 4 4 4 3 5 4 5 4 5 4\n",
      " 4 5 3 5 4 4 3 3 3 5 4 1 1 3 4 4 4 2 4 3 4 4 2 4 3 3 4 3 1 5 4 5 2 2 4 3 4\n",
      " 3 3 3 4 3 5 4 5 5 5 5 4 3 1 1 4 3 4 3 3 4 3 3 4 1 4 3 4 4 4 3 2 5 5 1 4 4\n",
      " 4 3 4 4 4 5 5 5 4 5 3 4 3 5 3 3 3 4 5 2 4 5 4 4 3 3 4 3 3 3 3 4 4 3 4 2 4\n",
      " 4 4 4 4 4 4 3 4 4 4 4 4 4 4 4 4 2 4 3 4 5 4 4 4 5 4 3 4 4 4 4 3 4 5 3 4 5\n",
      " 4 4 3 4 2 3 3 4 2 4 4 5 5 5 5 5 5 5 5 5 5 5 5 1 5]\n",
      "Ordenado:\n",
      " (5, 4, 4, 5, 5, 4, 5, 4, 3, 2, 3, 4, 5, 3, 3, 4, 2, 3, 3, 2, 1, 2, 1, 2, 1) (4, 4, 3, 3, 5, 5, 1, 2, 3, 2, 0, 1, 2, 2, 5, 0, 3, 1, 4, 1, 0, 0, 2, 4, 1) \n",
      "\n",
      "S:\n",
      " [ 60  44  59  47 113  15   4  30  21   9   6  12   9  27   4   3   5  10\n",
      "  14   2   3   2   4   2   1]\n"
     ]
    },
    {
     "data": {
      "image/png": "[encoded data removed]",
      "text/plain": [
       "<matplotlib.figure.Figure at 0x1ef23a8c668>"
      ]
     },
     "metadata": {},
     "output_type": "display_data"
    },
    {
     "data": {
      "text/plain": [
       "\"\\nplt.scatter(centroids[:, 0], centroids[:, 1], s = 300, c = 'red',label = 'Centroids')\\nplt.title('Liderança x Trabalho em Equipe')\\nplt.xlabel('Liderança')\\nplt.ylabel('Trabalho em Equipe')\\nplt.legend()\\nplt.show()\\n\\nplt.scatter(*zip(*cont.keys()),s=10*np.array(list(cont.values())), c = kmeans.labels_)\\nplt.title('Liderança x Trabalho em Equipe')\\nplt.xlabel('Liderança')\\nplt.ylabel('Trabalho em Equipe')\\nplt.show()\\n\\n\\nplt.scatter(X[:, 0], X[:,2], s = 100, c = kmeans.labels_)\\nplt.scatter(centroids[:, 0], centroids[:, 2], s = 300, c = 'red',label = 'Centroids')\\nplt.title('Liderança x Proatividade')\\nplt.xlabel('Liderança')\\nplt.ylabel('Proatividade')\\nplt.legend()\\nplt.show()\\n\\n\""
      ]
     },
     "execution_count": 26,
     "metadata": {},
     "output_type": "execute_result"
    }
   ],
   "source": [
    "from sklearn.cluster import KMeans\n",
    "from collections import Counter\n",
    "from collections import OrderedDict\n",
    "\n",
    "f1 = dataset[\"Liderança\"].values\n",
    "f2 = dataset[\"Trabalho em Equipe\"].values\n",
    "f3 = dataset[\"Proatividade\"].values\n",
    "\n",
    "#c = OrderedDict(Counter(zip(f1,f2,f3)))\n",
    "#X = c.keys()\n",
    "\n",
    "X = np.array(list(zip(f1,f2))) \n",
    "\n",
    "#fazendo clusterização com todos os atributos\n",
    "#X = dataset.iloc[:,1:10].values\n",
    "#print(X[:,2],\"\\n\")\n",
    "\n",
    "\n",
    "# Number of clusters\n",
    "kmeans = KMeans(n_clusters=3)\n",
    "# Fitting the input data\n",
    "kmeans = kmeans.fit(X)\n",
    "# Getting the cluster labels\n",
    "#labels = kmeans.predict(X)\n",
    "# Centroid values\n",
    "centroids = kmeans.cluster_centers_\n",
    "print(\"Centroides:\\n\",centroids,\"\\n\")\n",
    "#print(centroids,\"\\n\",centroids[:,0],\"\\n\",centroids[:, 1])\n",
    "\n",
    "\n",
    "\n",
    "\n",
    "print(\"labels:\\n\",kmeans.labels_,\"\\n\")\n",
    "print(\"X[0]:\\n\",X[:, 0],\"\\nX[1]:\\n\", X[:,1])\n",
    "\n",
    "cont = OrderedDict(Counter(zip(f2,f1)))\n",
    "print(\"Ordenado:\\n\",*zip(*cont.keys()),\"\\n\")\n",
    "s=np.array(list(cont.values()))\n",
    "print(\"S:\\n\", s)\n",
    "\n",
    "plt.scatter(X[:, 0], X[:,1], s=10*np.array(list(cont.values())), c = kmeans.labels_)\n",
    "plt.show()\n",
    "\n",
    "'''\n",
    "plt.scatter(centroids[:, 0], centroids[:, 1], s = 300, c = 'red',label = 'Centroids')\n",
    "plt.title('Liderança x Trabalho em Equipe')\n",
    "plt.xlabel('Liderança')\n",
    "plt.ylabel('Trabalho em Equipe')\n",
    "plt.legend()\n",
    "plt.show()\n",
    "\n",
    "plt.scatter(*zip(*cont.keys()),s=10*np.array(list(cont.values())), c = kmeans.labels_)\n",
    "plt.title('Liderança x Trabalho em Equipe')\n",
    "plt.xlabel('Liderança')\n",
    "plt.ylabel('Trabalho em Equipe')\n",
    "plt.show()\n",
    "\n",
    "\n",
    "plt.scatter(X[:, 0], X[:,2], s = 100, c = kmeans.labels_)\n",
    "plt.scatter(centroids[:, 0], centroids[:, 2], s = 300, c = 'red',label = 'Centroids')\n",
    "plt.title('Liderança x Proatividade')\n",
    "plt.xlabel('Liderança')\n",
    "plt.ylabel('Proatividade')\n",
    "plt.legend()\n",
    "plt.show()\n",
    "\n",
    "'''\n"
   ]
  },
  {
   "cell_type": "code",
   "execution_count": 3,
   "metadata": {},
   "outputs": [
    {
     "name": "stdout",
     "output_type": "stream",
     "text": [
      "[[3.92857143 4.00649351 3.47402597 4.05194805 4.         3.88311688\n",
      "  3.96753247 3.12987013 3.40909091]\n",
      " [4.65350877 4.77631579 4.25877193 4.71929825 4.64912281 4.58333333\n",
      "  4.84649123 4.74561404 4.63157895]\n",
      " [3.62903226 3.62903226 1.75       2.71774194 2.52419355 3.33870968\n",
      "  3.18548387 3.71774194 3.41935484]] \n",
      " \n",
      " [3.47402597 4.25877193 1.75      ] \n",
      " \n",
      " [3.96753247 4.84649123 3.18548387]\n"
     ]
    },
    {
     "data": {
      "image/png": "[encoded data removed]",
      "text/plain": [
       "<matplotlib.figure.Figure at 0x1fa13f88128>"
      ]
     },
     "metadata": {},
     "output_type": "display_data"
    }
   ],
   "source": [
    "from sklearn.cluster import KMeans\n",
    "\n",
    "f1 = dataset[\"Liderança\"].values\n",
    "f2 = dataset[\"Trabalho em Equipe\"].values\n",
    "f3 = dataset[\"Proatividade\"].values\n",
    "\n",
    "#X = np.array(list(zip(f1,f2,f3))) \n",
    "\n",
    "#fazendo clusterização com todos os atributos\n",
    "X = dataset.iloc[:,1:10].values\n",
    "#print(dataset.iloc[:,0].values,\"\\n\")\n",
    "\n",
    "\n",
    "# Number of clusters\n",
    "kmeans = KMeans(n_clusters=3)\n",
    "# Fitting the input data\n",
    "kmeans = kmeans.fit(X)\n",
    "# Getting the cluster labels\n",
    "labels = kmeans.predict(X)\n",
    "# Centroid values\n",
    "centroids = kmeans.cluster_centers_\n",
    "#print(centroids,\"\\n\")\n",
    "print(centroids,\"\\n \\n\",centroids[:,2],\"\\n \\n\",centroids[:, 6])\n",
    "\n",
    "\n",
    "plt.scatter(f1, f2, s = 100, c = kmeans.labels_)\n",
    "plt.scatter(centroids[:, 4], centroids[:, 6], s = 300, c = 'red',label = 'Centroids')\n",
    "plt.title('Comunicação x Trabalho em Equipe')\n",
    "plt.xlabel('Comunicação')\n",
    "plt.ylabel('Trabalho em Equipe')\n",
    "plt.legend()\n",
    "\n",
    "plt.show()\n",
    "\n",
    "\n"
   ]
  },
  {
   "cell_type": "code",
   "execution_count": 33,
   "metadata": {},
   "outputs": [
    {
     "name": "stdout",
     "output_type": "stream",
     "text": [
      "OrderedDict([((5, 4), 40), ((4, 3), 41), ((4, 4), 67), ((5, 5), 172), ((4, 5), 42), ((5, 3), 19), ((5, 1), 1), ((3, 3), 31), ((2, 3), 9), ((3, 2), 21), ((4, 2), 12), ((2, 2), 5), ((3, 4), 20), ((2, 4), 5), ((2, 1), 1), ((3, 5), 8), ((3, 0), 1), ((1, 2), 5), ((3, 1), 1), ((1, 3), 2), ((4, 1), 1), ((5, 2), 1), ((1, 1), 1)])\n",
      "\n",
      " odict_keys([(5, 4), (4, 3), (4, 4), (5, 5), (4, 5), (5, 3), (5, 1), (3, 3), (2, 3), (3, 2), (4, 2), (2, 2), (3, 4), (2, 4), (2, 1), (3, 5), (3, 0), (1, 2), (3, 1), (1, 3), (4, 1), (5, 2), (1, 1)])\n",
      "\n",
      " (5, 4, 4, 5, 4, 5, 5, 3, 2, 3, 4, 2, 3, 2, 2, 3, 3, 1, 3, 1, 4, 5, 1) (4, 3, 4, 5, 5, 3, 1, 3, 3, 2, 2, 2, 4, 4, 1, 5, 0, 2, 1, 3, 1, 2, 1)\n"
     ]
    },
    {
     "data": {
      "image/png": "[encoded data removed]",
      "text/plain": [
       "<matplotlib.figure.Figure at 0x1ef23ad0470>"
      ]
     },
     "metadata": {},
     "output_type": "display_data"
    },
    {
     "data": {
      "image/png": "[encoded data removed]",
      "text/plain": [
       "<matplotlib.figure.Figure at 0x1ef23ce3710>"
      ]
     },
     "metadata": {},
     "output_type": "display_data"
    }
   ],
   "source": [
    "#------------ok------------#\n",
    "#recebendo e plotando os valores de Liderança x Trabalho em equipe\n",
    "from mpl_toolkits.mplot3d import Axes3D\n",
    "from collections import Counter\n",
    "from collections import OrderedDict\n",
    "\n",
    "f1 = dataset[\"Trabalho em Equipe\"].values\n",
    "f2 = dataset[\"Proatividade\"].values\n",
    "f3 = dataset[\"Comunicação\"].values\n",
    "#x = np.array(list(zip(f1, f2))) \n",
    "#plt.scatter(f1, f2, f3, c='blue')\n",
    "c = OrderedDict(Counter(zip(f1,f2)))\n",
    "print(c)\n",
    "print(\"\\n\", c.keys())\n",
    "print(\"\\n\", *zip(*c.keys()))\n",
    "\n",
    "\n",
    "c = OrderedDict(Counter(zip(f2,f1)))\n",
    "plt.scatter(*zip(*c.keys()),s=10*np.array(list(c.values())), c = 'red')\n",
    "plt.title('Organização x Proatividade')\n",
    "plt.xlabel('Proatividade')\n",
    "plt.ylabel('Organização')\n",
    "plt.show()\n",
    "\n",
    "\n",
    "c = OrderedDict(Counter(zip(f2,f3)))\n",
    "plt.scatter(*zip(*c.keys()),s=10*np.array(list(c.values())), c = 'blue')\n",
    "plt.title('Proatividade x Comunicação')\n",
    "plt.xlabel('Proatividade')\n",
    "plt.ylabel('Comunicação')\n",
    "plt.show()\n",
    "\n"
   ]
  },
  {
   "cell_type": "code",
   "execution_count": 50,
   "metadata": {},
   "outputs": [
    {
     "name": "stdout",
     "output_type": "stream",
     "text": [
      "[(4, 5), (4, 4), (3, 4), (3, 5), (5, 5), (5, 4), (1, 5), (2, 4), (3, 3), (2, 2), (0, 3), (1, 4), (2, 5), (2, 3), (5, 3), (0, 4), (3, 2), (1, 3), (4, 3), (1, 2), (0, 1), (0, 2), (2, 1), (4, 2), (1, 1)] \n",
      "\n",
      "[[1.125      3.875     ]\n",
      " [4.         3.8       ]\n",
      " [1.28571429 1.57142857]]\n"
     ]
    },
    {
     "data": {
      "image/png": "[encoded data removed]",
      "text/plain": [
       "<matplotlib.figure.Figure at 0x1ef253f8780>"
      ]
     },
     "metadata": {},
     "output_type": "display_data"
    }
   ],
   "source": [
    "f1 = dataset[\"Liderança\"].values\n",
    "f2 = dataset[\"Trabalho em Equipe\"].values\n",
    "\n",
    "cont = OrderedDict(Counter(zip(f1,f2)))\n",
    "y = list(cont.keys())\n",
    "print(y,\"\\n\")\n",
    "\n",
    "# Number of clusters\n",
    "kmeans = KMeans(n_clusters=3)\n",
    "# Fitting the input data\n",
    "kmeans = kmeans.fit(y)\n",
    "# Getting the cluster labels\n",
    "#labels = kmeans.predict(X)\n",
    "# Centroid values\n",
    "centroids = kmeans.cluster_centers_\n",
    "print(centroids)\n",
    "\n",
    "plt.scatter(*zip(*cont.keys()), s=10*np.array(list(cont.values())), c = kmeans.labels_, marker = \"s\")\n",
    "#plt.scatter(centroids[:, 0], centroids[:, 1], s = 200, c = 'red', label = 'Centroids')\n",
    "plt.title('Liderança x Trabalho em Equipe')\n",
    "plt.xlabel('Liderança')\n",
    "plt.ylabel('Trabalho em Equipe')\n",
    "#plt.legend()\n",
    "plt.show()\n"
   ]
  },
  {
   "cell_type": "code",
   "execution_count": 51,
   "metadata": {},
   "outputs": [
    {
     "data": {
      "image/png": "[encoded data removed]",
      "text/plain": [
       "<matplotlib.figure.Figure at 0x22dae87d518>"
      ]
     },
     "metadata": {},
     "output_type": "display_data"
    }
   ],
   "source": [
    "from mpl_toolkits.mplot3d import Axes3D\n",
    "from scipy.cluster.vq import kmeans, vq, whiten\n",
    "\n",
    "fig = plt.figure()\n",
    "#ax = fig.gca(projection='3d')\n",
    "\n",
    "#normalizar\n",
    "whitened = whiten(media_avaliados.values)\n",
    "#centros dos clusters\n",
    "centroids,_ = kmeans(whitened, 4)\n",
    "#retorna os índices para os pontos que estão agrupado\n",
    "idx,_ = vq(whitened,centroids)\n",
    "\n",
    "plt.scatter(media_avaliados.values[idx==1],media_avaliados.values[idx==1] )\n",
    "\n",
    "#ax.scatter(centroids[:,0],centroids[:,1])\n",
    "plt.show()\n",
    "\n",
    "#função para fazer agrupamento: kmeans"
   ]
  },
  {
   "cell_type": "code",
   "execution_count": null,
   "metadata": {},
   "outputs": [],
   "source": []
  },
  {
   "cell_type": "code",
   "execution_count": 75,
   "metadata": {},
   "outputs": [
    {
     "name": "stdout",
     "output_type": "stream",
     "text": [
      "i: 1\n"
     ]
    },
    {
     "data": {
      "image/png": "[encoded data removed]",
      "text/plain": [
       "<matplotlib.figure.Figure at 0x1ef24f08470>"
      ]
     },
     "metadata": {},
     "output_type": "display_data"
    },
    {
     "name": "stdout",
     "output_type": "stream",
     "text": [
      "i: 3\n"
     ]
    },
    {
     "data": {
      "image/png": "[encoded data removed]",
      "text/plain": [
       "<matplotlib.figure.Figure at 0x1ef23d07940>"
      ]
     },
     "metadata": {},
     "output_type": "display_data"
    },
    {
     "name": "stdout",
     "output_type": "stream",
     "text": [
      "i: 4\n"
     ]
    },
    {
     "data": {
      "image/png": "[encoded data removed]",
      "text/plain": [
       "<matplotlib.figure.Figure at 0x1ef254d1668>"
      ]
     },
     "metadata": {},
     "output_type": "display_data"
    },
    {
     "name": "stdout",
     "output_type": "stream",
     "text": [
      "i: 5\n"
     ]
    },
    {
     "data": {
      "image/png": "[encoded data removed]",
      "text/plain": [
       "<matplotlib.figure.Figure at 0x1ef23cc02e8>"
      ]
     },
     "metadata": {},
     "output_type": "display_data"
    },
    {
     "name": "stdout",
     "output_type": "stream",
     "text": [
      "i: 6\n"
     ]
    },
    {
     "data": {
      "image/png": "[encoded data removed]",
      "text/plain": [
       "<matplotlib.figure.Figure at 0x1ef254582e8>"
      ]
     },
     "metadata": {},
     "output_type": "display_data"
    },
    {
     "name": "stdout",
     "output_type": "stream",
     "text": [
      "i: 7\n"
     ]
    },
    {
     "data": {
      "image/png": "[encoded data removed]",
      "text/plain": [
       "<matplotlib.figure.Figure at 0x1ef25a6acc0>"
      ]
     },
     "metadata": {},
     "output_type": "display_data"
    },
    {
     "name": "stdout",
     "output_type": "stream",
     "text": [
      "i: 8\n"
     ]
    },
    {
     "data": {
      "image/png": "[encoded data removed]",
      "text/plain": [
       "<matplotlib.figure.Figure at 0x1ef25a3b400>"
      ]
     },
     "metadata": {},
     "output_type": "display_data"
    },
    {
     "name": "stdout",
     "output_type": "stream",
     "text": [
      "i: 9\n"
     ]
    },
    {
     "data": {
      "image/png": "[encoded data removed]",
      "text/plain": [
       "<matplotlib.figure.Figure at 0x1ef25a67908>"
      ]
     },
     "metadata": {},
     "output_type": "display_data"
    }
   ],
   "source": [
    "#Relação entre as competencias e a caracteristica de líder!\n",
    "\n",
    "atrib = 2 #--> o número é o atributo que se quer ver a característica\n",
    "\n",
    "f1 = dataset.iloc[:,atrib].values\n",
    "\n",
    "for i in range(1,len(parametros)-3): \n",
    "    \n",
    "    if i == atrib: pass   #pois a col 2 é o atributo \"liderança\"\n",
    "    else:\n",
    "        f2 = dataset.iloc[:,i].values #retorna os valores de cada atribuição (a coluna inteira)\n",
    "        cont = OrderedDict(Counter(zip(f1,f2)))\n",
    "        y = list(cont.keys())\n",
    "        # Number of clusters\n",
    "        kmeans = KMeans(n_clusters=3)\n",
    "        # Fitting the input data\n",
    "        kmeans = kmeans.fit(y)\n",
    "        # Centroid values\n",
    "        print(\"i:\",i)\n",
    "        centroids = kmeans.cluster_centers_\n",
    "        plt.scatter(*zip(*cont.keys()), s=10*np.array(list(cont.values())), c = kmeans.labels_, marker = \"s\")\n",
    "        plt.title(parametros[atrib]+' x '+parametros[i])\n",
    "        plt.xlabel(parametros[atrib])\n",
    "        plt.ylabel(parametros[i])\n",
    "        plt.show()\n"
   ]
  }
 ],
 "metadata": {
  "kernelspec": {
   "display_name": "Python 3",
   "language": "python",
   "name": "python3"
  },
  "language_info": {
   "codemirror_mode": {
    "name": "ipython",
    "version": 3
   },
   "file_extension": ".py",
   "mimetype": "text/x-python",
   "name": "python",
   "nbconvert_exporter": "python",
   "pygments_lexer": "ipython3",
   "version": "3.6.4"
  }
 },
 "nbformat": 4,
 "nbformat_minor": 2
}
