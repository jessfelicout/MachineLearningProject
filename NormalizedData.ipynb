{
 "cells": [
  {
   "cell_type": "code",
   "execution_count": 23,
   "metadata": {},
   "outputs": [
    {
     "name": "stdout",
     "output_type": "stream",
     "text": [
      "mat-fac:\n",
      " [[ 98 236 531 ...  15  12  13]\n",
      " [121 193 607 ...  13  15  11]\n",
      " [115 141 590 ...  14  13   6]\n",
      " ...\n",
      " [337 299 852 ...  15  17  21]\n",
      " [247 261 866 ...  13  15  15]\n",
      " [355 379 867 ...  12  12  20]]\n",
      "mat-fou:\n",
      " [[0.06588172 0.19731169 0.10382563 ... 0.39436572 0.04997072 0.34487096]\n",
      " [0.04914215 0.17597068 0.10551464 ... 0.44527711 0.08397801 0.35409193]\n",
      " [0.03417192 0.22764888 0.10876636 ... 0.44502912 0.07123367 0.2614646 ]\n",
      " ...\n",
      " [0.33560596 0.318426   0.25794822 ... 0.14157604 0.03877594 0.11459086]\n",
      " [0.25390962 0.17120241 0.30262199 ... 0.23032164 0.10366427 0.13000271]\n",
      " [0.27157485 0.14903681 0.23275253 ... 0.27576948 0.02107437 0.08524072]]\n"
     ]
    }
   ],
   "source": [
    "from scipy.spatial.distance import pdist, squareform\n",
    "import numpy as np\n",
    "import pandas \n",
    "\n",
    "\n",
    "def ExtractData (filename):\n",
    "\n",
    "    features = []\n",
    "    classes = []\n",
    "    \n",
    "    file = open(filename, 'r')\n",
    "\n",
    "    for i in range(10):\n",
    "        classes.append([i]*200)\n",
    "\n",
    "    for line in file:\n",
    "        row = line.split(';')\n",
    "        features.append([float(x) for x in row ])\n",
    "\n",
    "    mat_feat = np.matrix(features).astype(np.float)\n",
    "\n",
    "    #matriz de dados\n",
    "    return (mat_feat)\n",
    "\n",
    "mat_fac = ExtractData('mfeat-fac.csv').astype(int)\n",
    "mat_fou = ExtractData('mfeat-fou.csv')\n",
    "#mat_kar = ExtractData('mfeat-kar.csv')\n",
    "\n",
    "print('mat-fac:\\n',mat_fac)\n",
    "print('mat-fou:\\n',mat_fou)\n",
    "#print('mat-kar:\\n',mat_kar)\n",
    "\n"
   ]
  },
  {
   "cell_type": "code",
   "execution_count": 24,
   "metadata": {},
   "outputs": [
    {
     "name": "stdout",
     "output_type": "stream",
     "text": [
      "[[   0.          566.27378537  633.99526812 ... 1535.42827902\n",
      "  1447.88466391 1719.27659206]\n",
      " [ 566.27378537    0.          457.2089238  ... 1376.32481631\n",
      "  1232.27594312 1586.15320824]\n",
      " [ 633.99526812  457.2089238     0.         ... 1396.93736438\n",
      "  1255.33899804 1664.20130994]\n",
      " ...\n",
      " [1535.42827902 1376.32481631 1396.93736438 ...    0.\n",
      "   546.94606681  633.03712371]\n",
      " [1447.88466391 1232.27594312 1255.33899804 ...  546.94606681\n",
      "     0.          951.92751825]\n",
      " [1719.27659206 1586.15320824 1664.20130994 ...  633.03712371\n",
      "   951.92751825    0.        ]]\n"
     ]
    }
   ],
   "source": [
    "#calculo das matrizes de dissimilaridade\n",
    "from scipy.spatial.distance import pdist, squareform\n",
    "\n",
    "\n",
    "distancias_fac = pdist(mat_fac, metric='euclidean')\n",
    "distancias_fou = pdist(mat_fou, metric='euclidean')\n",
    "#distancias_kar = pdist(mat_kar, metric='euclidean')\n",
    "\n",
    "mfeat_fac = squareform(distancias_fac)\n",
    "mfeat_fou = squareform(distancias_fou)\n",
    "#mfeat_kar = squareform(distancias_kar)\n",
    "\n",
    "print(mfeat_fac)"
   ]
  },
  {
   "cell_type": "code",
   "execution_count": null,
   "metadata": {},
   "outputs": [],
   "source": []
  }
 ],
 "metadata": {
  "kernelspec": {
   "display_name": "Python 3",
   "language": "python",
   "name": "python3"
  },
  "language_info": {
   "codemirror_mode": {
    "name": "ipython",
    "version": 3
   },
   "file_extension": ".py",
   "mimetype": "text/x-python",
   "name": "python",
   "nbconvert_exporter": "python",
   "pygments_lexer": "ipython3",
   "version": "3.6.4"
  }
 },
 "nbformat": 4,
 "nbformat_minor": 2
}
