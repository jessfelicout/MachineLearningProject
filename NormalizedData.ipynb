{
 "cells": [
  {
   "cell_type": "code",
   "execution_count": 27,
   "metadata": {},
   "outputs": [
    {
     "name": "stdout",
     "output_type": "stream",
     "text": [
      "mat-fac:\n",
      " [[ 98 236 531 ...  15  12  13]\n",
      " [121 193 607 ...  13  15  11]\n",
      " [115 141 590 ...  14  13   6]\n",
      " ...\n",
      " [337 299 852 ...  15  17  21]\n",
      " [247 261 866 ...  13  15  15]\n",
      " [355 379 867 ...  12  12  20]]\n",
      "mat-fou:\n",
      " [[0.06588172 0.19731169 0.10382563 ... 0.39436572 0.04997072 0.34487096]\n",
      " [0.04914215 0.17597068 0.10551464 ... 0.44527711 0.08397801 0.35409193]\n",
      " [0.03417192 0.22764888 0.10876636 ... 0.44502912 0.07123367 0.2614646 ]\n",
      " ...\n",
      " [0.33560596 0.318426   0.25794822 ... 0.14157604 0.03877594 0.11459086]\n",
      " [0.25390962 0.17120241 0.30262199 ... 0.23032164 0.10366427 0.13000271]\n",
      " [0.27157485 0.14903681 0.23275253 ... 0.27576948 0.02107437 0.08524072]]\n",
      "mat-kar:\n",
      " [[-1.02970076e+09 -1.16667890e+09  1.15606690e+09 ...  1.81469083e+08\n",
      "  -1.35135269e+08 -4.73910360e-01]\n",
      " [-5.03600883e+08 -1.28853331e+09  1.61155220e-01 ...  4.85791740e-01\n",
      "   6.42450570e-01  6.13107090e-01]\n",
      " [-9.63915730e+08 -6.65589762e+08  3.88686870e-01 ...  1.09774804e+08\n",
      "   8.27182050e-01 -1.76784039e+08]\n",
      " ...\n",
      " [ 1.88161314e+08 -9.65088081e+08  3.17780410e-01 ... -4.39636590e-01\n",
      "   2.87012700e-01 -4.20792850e-01]\n",
      " [-1.53088582e+08 -1.01837750e+09 -1.05586362e+08 ...  1.40521359e+08\n",
      "   4.35513970e-01 -2.25426380e-01]\n",
      " [ 1.12516336e+09 -5.95969105e+08  5.36724520e+08 ...  7.91150000e-03\n",
      "   7.63970730e-01  4.03685800e-02]]\n"
     ]
    }
   ],
   "source": [
    "from scipy.spatial.distance import pdist, squareform\n",
    "import numpy as np\n",
    "import pandas \n",
    "\n",
    "\n",
    "def ExtractData (filename):\n",
    "\n",
    "    features = []\n",
    "    classes = []\n",
    "    \n",
    "    file = open(filename, 'r')\n",
    "\n",
    "    for i in range(10):\n",
    "        classes.append([i]*200)\n",
    "\n",
    "    for line in file:\n",
    "        row = line.split(';')\n",
    "        features.append([float(x) for x in row ])\n",
    "\n",
    "    mat_feat = np.matrix(features).astype(np.float)\n",
    "\n",
    "    #matriz de dados\n",
    "    return (mat_feat)\n",
    "\n",
    "mat_fac = ExtractData('mfeat-fac.csv').astype(int)\n",
    "mat_fou = ExtractData('mfeat-fou.csv')\n",
    "mat_kar = ExtractData('mfeat-kar.csv')\n",
    "\n",
    "print('mat-fac:\\n',mat_fac)\n",
    "print('mat-fou:\\n',mat_fou)\n",
    "print('mat-kar:\\n',mat_kar)\n",
    "\n"
   ]
  },
  {
   "cell_type": "code",
   "execution_count": 30,
   "metadata": {},
   "outputs": [
    {
     "name": "stdout",
     "output_type": "stream",
     "text": [
      "[[0.00000000e+00 1.90068575e+09 2.16201027e+09 ... 2.44829923e+09\n",
      "  2.59396726e+09 3.05369949e+09]\n",
      " [1.90068575e+09 0.00000000e+00 1.84998619e+09 ... 2.09011423e+09\n",
      "  1.93749102e+09 2.69105618e+09]\n",
      " [2.16201027e+09 1.84998619e+09 0.00000000e+00 ... 2.29580572e+09\n",
      "  2.30378492e+09 3.06202824e+09]\n",
      " ...\n",
      " [2.44829923e+09 2.09011423e+09 2.29580572e+09 ... 0.00000000e+00\n",
      "  1.56630840e+09 2.38143105e+09]\n",
      " [2.59396726e+09 1.93749102e+09 2.30378492e+09 ... 1.56630840e+09\n",
      "  0.00000000e+00 2.51669747e+09]\n",
      " [3.05369949e+09 2.69105618e+09 3.06202824e+09 ... 2.38143105e+09\n",
      "  2.51669747e+09 0.00000000e+00]]\n"
     ]
    }
   ],
   "source": [
    "#calculo das matrizes de dissimilaridade\n",
    "from scipy.spatial.distance import pdist, squareform\n",
    "\n",
    "\n",
    "distancias_fac = pdist(mat_fac, metric='euclidean')\n",
    "distancias_fou = pdist(mat_fou, metric='euclidean')\n",
    "distancias_kar = pdist(mat_kar, metric='euclidean')\n",
    "\n",
    "mfeat_fac = squareform(distancias_fac)\n",
    "mfeat_fou = squareform(distancias_fou)\n",
    "mfeat_kar = squareform(distancias_kar)\n",
    "\n",
    "print(mfeat_kar)"
   ]
  },
  {
   "cell_type": "code",
   "execution_count": null,
   "metadata": {},
   "outputs": [],
   "source": []
  }
 ],
 "metadata": {
  "kernelspec": {
   "display_name": "Python 3",
   "language": "python",
   "name": "python3"
  },
  "language_info": {
   "codemirror_mode": {
    "name": "ipython",
    "version": 3
   },
   "file_extension": ".py",
   "mimetype": "text/x-python",
   "name": "python",
   "nbconvert_exporter": "python",
   "pygments_lexer": "ipython3",
   "version": "3.6.4"
  }
 },
 "nbformat": 4,
 "nbformat_minor": 2
}
